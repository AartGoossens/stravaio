{
 "cells": [
  {
   "cell_type": "code",
   "execution_count": 21,
   "metadata": {},
   "outputs": [
    {
     "name": "stdout",
     "output_type": "stream",
     "text": [
      "The autoreload extension is already loaded. To reload it, use:\n",
      "  %reload_ext autoreload\n"
     ]
    }
   ],
   "source": [
    "%load_ext autoreload\n",
    "%autoreload 2\n",
    "import os\n",
    "from stravaio import StravaIO\n",
    "import dotenv\n",
    "import warnings"
   ]
  },
  {
   "cell_type": "code",
   "execution_count": 5,
   "metadata": {},
   "outputs": [
    {
     "data": {
      "text/plain": [
       "True"
      ]
     },
     "execution_count": 5,
     "metadata": {},
     "output_type": "execute_result"
    }
   ],
   "source": [
    "dotenv.load_dotenv()"
   ]
  },
  {
   "cell_type": "code",
   "execution_count": 9,
   "metadata": {},
   "outputs": [],
   "source": [
    "access_token = os.getenv('ACCESS_TOKEN')\n",
    "if access_token is None:\n",
    "    warnings.warn('access tocken is not loaded')"
   ]
  },
  {
   "cell_type": "code",
   "execution_count": 11,
   "metadata": {},
   "outputs": [],
   "source": [
    "client = StravaIO(access_token)"
   ]
  },
  {
   "cell_type": "code",
   "execution_count": 22,
   "metadata": {},
   "outputs": [
    {
     "name": "stdout",
     "output_type": "stream",
     "text": [
      "Strava Athlete Maksym Sladkov with id: 1202065\n"
     ]
    }
   ],
   "source": [
    "athlete = client.get_logged_in_athlete()\n",
    "print(athlete)"
   ]
  },
  {
   "cell_type": "code",
   "execution_count": 27,
   "metadata": {},
   "outputs": [
    {
     "data": {
      "text/plain": [
       "{\n",
       "  \"id\": 1202065,\n",
       "  \"resource_state\": 3,\n",
       "  \"firstname\": \"Maksym\",\n",
       "  \"lastname\": \"Sladkov\",\n",
       "  \"profile_medium\": \"https://dgalywyr863hv.cloudfront.net/pictures/athletes/1202065/329723/1/medium.jpg\",\n",
       "  \"profile\": \"https://dgalywyr863hv.cloudfront.net/pictures/athletes/1202065/329723/1/large.jpg\",\n",
       "  \"city\": \"Graz\",\n",
       "  \"state\": \"Styria\",\n",
       "  \"country\": \"Austria\",\n",
       "  \"sex\": \"M\",\n",
       "  \"friend\": null,\n",
       "  \"follower\": null,\n",
       "  \"premium\": false,\n",
       "  \"summit\": false,\n",
       "  \"created_at\": \"2012-10-13T14:40:18Z\",\n",
       "  \"updated_at\": \"2019-02-16T16:17:09Z\",\n",
       "  \"follower_count\": 292,\n",
       "  \"friend_count\": 112,\n",
       "  \"mutual_friend_count\": 0,\n",
       "  \"measurement_preference\": \"meters\",\n",
       "  \"ftp\": 240,\n",
       "  \"weight\": 73.102,\n",
       "  \"clubs\": [\n",
       "    {\n",
       "      \"id\": 22072,\n",
       "      \"resource_state\": 2,\n",
       "      \"name\": \"Racefietsblog.nl\",\n",
       "      \"profile_medium\": \"https://dgalywyr863hv.cloudfront.net/pictures/clubs/22072/479694/5/medium.jpg\",\n",
       "      \"cover_photo\": \"https://dgalywyr863hv.cloudfront.net/pictures/clubs/22072/4996645/7/large.jpg\",\n",
       "      \"cover_photo_small\": \"https://dgalywyr863hv.cloudfront.net/pictures/clubs/22072/4996645/7/small.jpg\",\n",
       "      \"sport_type\": \"cycling\",\n",
       "      \"city\": \"Amsterdam\",\n",
       "      \"state\": \"Noord-Holland\",\n",
       "      \"country\": \"Nederland\",\n",
       "      \"private\": false,\n",
       "      \"member_count\": 0,\n",
       "      \"featured\": false,\n",
       "      \"verified\": true,\n",
       "      \"url\": \"racefietsblog\"\n",
       "    },\n",
       "    {\n",
       "      \"id\": 38013,\n",
       "      \"resource_state\": 2,\n",
       "      \"name\": \"GCN\",\n",
       "      \"profile_medium\": \"https://dgalywyr863hv.cloudfront.net/pictures/clubs/38013/1033989/3/medium.jpg\",\n",
       "      \"cover_photo\": \"https://dgalywyr863hv.cloudfront.net/pictures/clubs/38013/5381044/8/large.jpg\",\n",
       "      \"cover_photo_small\": \"https://dgalywyr863hv.cloudfront.net/pictures/clubs/38013/5381044/8/small.jpg\",\n",
       "      \"sport_type\": \"cycling\",\n",
       "      \"city\": \"Bath\",\n",
       "      \"state\": \"England\",\n",
       "      \"country\": \"United Kingdom\",\n",
       "      \"private\": false,\n",
       "      \"member_count\": 0,\n",
       "      \"featured\": false,\n",
       "      \"verified\": true,\n",
       "      \"url\": \"globalcyclingnetwork\"\n",
       "    },\n",
       "    {\n",
       "      \"id\": 7720,\n",
       "      \"resource_state\": 2,\n",
       "      \"name\": \"Cycling Team Wielertoerist\",\n",
       "      \"profile_medium\": \"https://dgalywyr863hv.cloudfront.net/pictures/clubs/7720/114627/1/medium.jpg\",\n",
       "      \"cover_photo\": \"https://dgalywyr863hv.cloudfront.net/pictures/clubs/7720/4466055/2/large.jpg\",\n",
       "      \"cover_photo_small\": \"https://dgalywyr863hv.cloudfront.net/pictures/clubs/7720/4466055/2/small.jpg\",\n",
       "      \"sport_type\": \"other\",\n",
       "      \"city\": \"\",\n",
       "      \"state\": \"\",\n",
       "      \"country\": \"Nederland\",\n",
       "      \"private\": true,\n",
       "      \"member_count\": 0,\n",
       "      \"featured\": false,\n",
       "      \"verified\": false,\n",
       "      \"url\": \"cycling-team-wielertoerist\"\n",
       "    },\n",
       "    {\n",
       "      \"id\": 30331,\n",
       "      \"resource_state\": 2,\n",
       "      \"name\": \"Die_Grazer_Stravisten\",\n",
       "      \"profile_medium\": \"https://dgalywyr863hv.cloudfront.net/pictures/clubs/30331/4011449/1/medium.jpg\",\n",
       "      \"cover_photo\": null,\n",
       "      \"cover_photo_small\": null,\n",
       "      \"sport_type\": \"cycling\",\n",
       "      \"city\": \"Graz\",\n",
       "      \"state\": \"Steiermark\",\n",
       "      \"country\": \"\\u00d6sterreich\",\n",
       "      \"private\": false,\n",
       "      \"member_count\": 0,\n",
       "      \"featured\": false,\n",
       "      \"verified\": false,\n",
       "      \"url\": \"die_grazer_stravisten\"\n",
       "    },\n",
       "    {\n",
       "      \"id\": 457249,\n",
       "      \"resource_state\": 2,\n",
       "      \"name\": \"Teamgeist\",\n",
       "      \"profile_medium\": \"https://dgalywyr863hv.cloudfront.net/pictures/clubs/457249/9547707/3/medium.jpg\",\n",
       "      \"cover_photo\": \"https://dgalywyr863hv.cloudfront.net/pictures/clubs/457249/9515160/5/large.jpg\",\n",
       "      \"cover_photo_small\": \"https://dgalywyr863hv.cloudfront.net/pictures/clubs/457249/9515160/5/small.jpg\",\n",
       "      \"sport_type\": \"cycling\",\n",
       "      \"city\": \"Graz\",\n",
       "      \"state\": \"Steiermark\",\n",
       "      \"country\": \"\\u00d6sterreich\",\n",
       "      \"private\": false,\n",
       "      \"member_count\": 0,\n",
       "      \"featured\": false,\n",
       "      \"verified\": false,\n",
       "      \"url\": \"teamgeist\"\n",
       "    },\n",
       "    {\n",
       "      \"id\": 321004,\n",
       "      \"resource_state\": 2,\n",
       "      \"name\": \"Strava Austria\",\n",
       "      \"profile_medium\": \"https://dgalywyr863hv.cloudfront.net/pictures/clubs/321004/7524373/2/medium.jpg\",\n",
       "      \"cover_photo\": \"https://dgalywyr863hv.cloudfront.net/pictures/clubs/321004/7524397/13/large.jpg\",\n",
       "      \"cover_photo_small\": \"https://dgalywyr863hv.cloudfront.net/pictures/clubs/321004/7524397/13/small.jpg\",\n",
       "      \"sport_type\": \"cycling\",\n",
       "      \"city\": \"\",\n",
       "      \"state\": \"\",\n",
       "      \"country\": \"\\u00d6sterreich\",\n",
       "      \"private\": false,\n",
       "      \"member_count\": 0,\n",
       "      \"featured\": false,\n",
       "      \"verified\": false,\n",
       "      \"url\": \"stravaaustria\"\n",
       "    },\n",
       "    {\n",
       "      \"id\": 435594,\n",
       "      \"resource_state\": 2,\n",
       "      \"name\": \"The Sufferfest\",\n",
       "      \"profile_medium\": \"https://dgalywyr863hv.cloudfront.net/pictures/clubs/435594/8604071/3/medium.jpg\",\n",
       "      \"cover_photo\": \"https://dgalywyr863hv.cloudfront.net/pictures/clubs/435594/8604076/19/large.jpg\",\n",
       "      \"cover_photo_small\": \"https://dgalywyr863hv.cloudfront.net/pictures/clubs/435594/8604076/19/small.jpg\",\n",
       "      \"sport_type\": \"cycling\",\n",
       "      \"city\": \"\",\n",
       "      \"state\": \"\",\n",
       "      \"country\": \"United States\",\n",
       "      \"private\": false,\n",
       "      \"member_count\": 0,\n",
       "      \"featured\": false,\n",
       "      \"verified\": true,\n",
       "      \"url\": \"thesufferfest\"\n",
       "    },\n",
       "    {\n",
       "      \"id\": 496284,\n",
       "      \"resource_state\": 2,\n",
       "      \"name\": \"Do The Plan With Dan\",\n",
       "      \"profile_medium\": \"https://dgalywyr863hv.cloudfront.net/pictures/clubs/496284/11146568/1/medium.jpg\",\n",
       "      \"cover_photo\": \"https://dgalywyr863hv.cloudfront.net/pictures/clubs/496284/11146631/4/large.jpg\",\n",
       "      \"cover_photo_small\": \"https://dgalywyr863hv.cloudfront.net/pictures/clubs/496284/11146631/4/small.jpg\",\n",
       "      \"sport_type\": \"cycling\",\n",
       "      \"city\": \"Reno\",\n",
       "      \"state\": \"Nevada\",\n",
       "      \"country\": \"United States\",\n",
       "      \"private\": false,\n",
       "      \"member_count\": 0,\n",
       "      \"featured\": false,\n",
       "      \"verified\": false,\n",
       "      \"url\": \"dotheplanwithdan\"\n",
       "    }\n",
       "  ],\n",
       "  \"bikes\": [\n",
       "    {\n",
       "      \"id\": \"b1245851\",\n",
       "      \"resource_state\": 2,\n",
       "      \"primary\": false,\n",
       "      \"name\": \"Cervelo R3\",\n",
       "      \"distance\": 21610871.0\n",
       "    },\n",
       "    {\n",
       "      \"id\": \"b1010908\",\n",
       "      \"resource_state\": 2,\n",
       "      \"primary\": false,\n",
       "      \"name\": \"Cube Reaction Pro 2012\",\n",
       "      \"distance\": 450683.0\n",
       "    },\n",
       "    {\n",
       "      \"id\": \"b3770749\",\n",
       "      \"resource_state\": 2,\n",
       "      \"primary\": false,\n",
       "      \"name\": \"Elite Turbo Muin \",\n",
       "      \"distance\": 29882.0\n",
       "    },\n",
       "    {\n",
       "      \"id\": \"b2706523\",\n",
       "      \"resource_state\": 2,\n",
       "      \"primary\": false,\n",
       "      \"name\": \"Other\",\n",
       "      \"distance\": 906744.0\n",
       "    },\n",
       "    {\n",
       "      \"id\": \"b1138423\",\n",
       "      \"resource_state\": 2,\n",
       "      \"primary\": false,\n",
       "      \"name\": \"Puch Hybrid\",\n",
       "      \"distance\": 1183915.0\n",
       "    },\n",
       "    {\n",
       "      \"id\": \"b1025530\",\n",
       "      \"resource_state\": 2,\n",
       "      \"primary\": false,\n",
       "      \"name\": \"Tacx Flow\",\n",
       "      \"distance\": 3161360.0\n",
       "    },\n",
       "    {\n",
       "      \"id\": \"b452175\",\n",
       "      \"resource_state\": 2,\n",
       "      \"primary\": false,\n",
       "      \"name\": \"Wilier La Triestina\",\n",
       "      \"distance\": 15695401.0\n",
       "    }\n",
       "  ],\n",
       "  \"shoes\": [\n",
       "    {\n",
       "      \"id\": \"g542311\",\n",
       "      \"resource_state\": 2,\n",
       "      \"primary\": true,\n",
       "      \"name\": \"Saucony Guide 7\",\n",
       "      \"distance\": 189283.0\n",
       "    }\n",
       "  ]\n",
       "}"
      ]
     },
     "execution_count": 27,
     "metadata": {},
     "output_type": "execute_result"
    }
   ],
   "source": [
    "athlete"
   ]
  },
  {
   "cell_type": "code",
   "execution_count": 41,
   "metadata": {},
   "outputs": [
    {
     "name": "stdout",
     "output_type": "stream",
     "text": [
      "Fetched 3, the latests is on 2019-06-09 11:13:18+00:00\n"
     ]
    }
   ],
   "source": [
    "activities = client.get_logged_in_athlete_activities(after='last week')"
   ]
  }
 ],
 "metadata": {
  "kernelspec": {
   "display_name": "Python 3",
   "language": "python",
   "name": "python3"
  },
  "language_info": {
   "codemirror_mode": {
    "name": "ipython",
    "version": 3
   },
   "file_extension": ".py",
   "mimetype": "text/x-python",
   "name": "python",
   "nbconvert_exporter": "python",
   "pygments_lexer": "ipython3",
   "version": "3.6.5"
  }
 },
 "nbformat": 4,
 "nbformat_minor": 2
}
